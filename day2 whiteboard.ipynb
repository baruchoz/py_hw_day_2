{
 "cells": [
  {
   "cell_type": "markdown",
   "id": "831a7d4e",
   "metadata": {},
   "source": [
    "#### Complete the function that takes a single list of numbers. Your function must return the sum of the even \n",
    "#### values of this list.\n",
    "#### Only numbers without decimals like 4 or 4.0 can be even.\n",
    "#### The input is a sequence of numbers: integers and/or floats"
   ]
  },
  {
   "cell_type": "code",
   "execution_count": 7,
   "id": "538bc9b0",
   "metadata": {},
   "outputs": [
    {
     "name": "stdout",
     "output_type": "stream",
     "text": [
      "22\n",
      "6.0\n"
     ]
    }
   ],
   "source": [
    "def even(lst):\n",
    "    even_numbers = 0\n",
    "    for number in lst:\n",
    "        if number % 2 == 0:\n",
    "            even_numbers += number\n",
    "    print(even_numbers)\n",
    "\n",
    "list1 = [4, 1, 5, 10, 7, 9, 8]\n",
    "list2 = [4.0, 6.6, 2]\n",
    "\n",
    "even(list1)\n",
    "\n",
    "even(list2)"
   ]
  }
 ],
 "metadata": {
  "kernelspec": {
   "display_name": "Python 3",
   "language": "python",
   "name": "python3"
  },
  "language_info": {
   "codemirror_mode": {
    "name": "ipython",
    "version": 3
   },
   "file_extension": ".py",
   "mimetype": "text/x-python",
   "name": "python",
   "nbconvert_exporter": "python",
   "pygments_lexer": "ipython3",
   "version": "3.8.8"
  }
 },
 "nbformat": 4,
 "nbformat_minor": 5
}
